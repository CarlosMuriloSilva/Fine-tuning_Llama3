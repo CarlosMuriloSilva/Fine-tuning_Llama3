{
 "cells": [
  {
   "cell_type": "markdown",
   "metadata": {},
   "source": [
    "1. Escolha do Dataset:\n",
    "The AmazonTitles-1.3MM (https://drive.google.com/file/d/12zH4mL2RX8iSvH0VCNnd3QxO4DzuHWnK/view) é um Dataset formado por consultas textuais reais de usuários e títulos associados de produtos relevantes encontrados na Amazon e suas descrições, medidos por ações implícitas ou explícitas dos usuários."
   ]
  },
  {
   "cell_type": "markdown",
   "metadata": {},
   "source": [
    "2. Preparação do Dataset:\n",
    "No nosso trabalho utilizaremos apenas o arquivo \"trn.json\" obtido à partir do download do dataset AmazonTitles-1.3MM. Deste arquivo iremos utilizar apenas os atributos “title” e “content”, que contém título e descrição respectivamente.\n",
    "Neste script iremos preparar os prompts a serem usados no fine-tuning do modelo escolhido, a pergunta a ser utilizada será:\n",
    "\"Gere uma descrição para o seguinte produto\"."
   ]
  },
  {
   "cell_type": "code",
   "execution_count": null,
   "metadata": {},
   "outputs": [
    {
     "name": "stdout",
     "output_type": "stream",
     "text": [
      "Total de entradas processadas: 210551\n"
     ]
    }
   ],
   "source": [
    "import json\n",
    "import random\n",
    "\n",
    "products = []\n",
    "\n",
    "# Abrir o arquivo JSON de entrada\n",
    "with open('dados/trn.json', 'r', encoding='utf-8') as file:\n",
    "    for linha in file:\n",
    "        try:\n",
    "            item = json.loads(linha)\n",
    "            title = item.get(\"title\", \"\").strip()\n",
    "            content = item.get(\"content\", \"\").strip()\n",
    "\n",
    "            # Ignora se title ou content estiver vazio\n",
    "            if (not title) or (not content):\n",
    "                continue\n",
    "            \n",
    "            if (\"&\" in content) or (\"#\" in content):\n",
    "                continue\n",
    "\n",
    "            # De forma randomica, ignora 80% dos dados\n",
    "            if random.random() < 0.8:\n",
    "                continue    \n",
    "            \n",
    "            product={\n",
    "                \"title\": title,\n",
    "                \"description\": content\n",
    "            }\n",
    "            products.append(product)\n",
    "       \n",
    "        except json.JSONDecodeError as e:\n",
    "            print(f\"Erro ao decodificar linha: {e}\")\n",
    "            continue\n",
    "\n",
    "# Salvar o conteúdo JSON no novo arquivo\n",
    "with open('dados/trn_Amazon_titles.jsonl', 'w', encoding=\"utf-8\") as output_file:\n",
    "    for product in products:\n",
    "        # Cria o JSONL com o formato desejado\n",
    "        prompt = f\"Gere uma descrição para o seguinte produto: {product['title']}\\nDescrição: {product['description']}\"\n",
    "        json_line = {\"text\": prompt}\n",
    "        output_file.write(json.dumps(json_line, ensure_ascii=False) + \"\\n\")\n",
    "\n",
    "# Exibir o número total de entradas processadas\n",
    "print(f\"Total de entradas processadas: {len(products)}\")"
   ]
  }
 ],
 "metadata": {
  "colab": {
   "authorship_tag": "ABX9TyMsfekl3GPGVmtH1xIU0yL7",
   "provenance": []
  },
  "kernelspec": {
   "display_name": "Python 3",
   "name": "python3"
  },
  "language_info": {
   "codemirror_mode": {
    "name": "ipython",
    "version": 3
   },
   "file_extension": ".py",
   "mimetype": "text/x-python",
   "name": "python",
   "nbconvert_exporter": "python",
   "pygments_lexer": "ipython3",
   "version": "3.12.2"
  }
 },
 "nbformat": 4,
 "nbformat_minor": 0
}
